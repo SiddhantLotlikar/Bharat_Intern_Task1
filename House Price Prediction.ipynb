{
 "cells": [
  {
   "cell_type": "code",
   "execution_count": 1,
   "id": "8ddb711a",
   "metadata": {},
   "outputs": [
    {
     "name": "stdout",
     "output_type": "stream",
     "text": [
      "WARNING:tensorflow:From C:\\Users\\lotli\\anaconda3\\Lib\\site-packages\\keras\\src\\losses.py:2976: The name tf.losses.sparse_softmax_cross_entropy is deprecated. Please use tf.compat.v1.losses.sparse_softmax_cross_entropy instead.\n",
      "\n"
     ]
    }
   ],
   "source": [
    "import pandas as pd\n",
    "import numpy as np\n",
    "from tensorflow import keras"
   ]
  },
  {
   "cell_type": "markdown",
   "id": "ee802b35",
   "metadata": {},
   "source": [
    "importing data"
   ]
  },
  {
   "cell_type": "code",
   "execution_count": 3,
   "id": "148c8161",
   "metadata": {},
   "outputs": [
    {
     "data": {
      "text/html": [
       "<div>\n",
       "<style scoped>\n",
       "    .dataframe tbody tr th:only-of-type {\n",
       "        vertical-align: middle;\n",
       "    }\n",
       "\n",
       "    .dataframe tbody tr th {\n",
       "        vertical-align: top;\n",
       "    }\n",
       "\n",
       "    .dataframe thead th {\n",
       "        text-align: right;\n",
       "    }\n",
       "</style>\n",
       "<table border=\"1\" class=\"dataframe\">\n",
       "  <thead>\n",
       "    <tr style=\"text-align: right;\">\n",
       "      <th></th>\n",
       "      <th>YearBuilt</th>\n",
       "      <th>2ndFlrSF</th>\n",
       "      <th>GrLivArea</th>\n",
       "      <th>FullBath</th>\n",
       "      <th>HalfBath</th>\n",
       "      <th>BedroomAbvGr</th>\n",
       "      <th>TotRmsAbvGrd</th>\n",
       "      <th>YrSold</th>\n",
       "      <th>SalePrice</th>\n",
       "    </tr>\n",
       "  </thead>\n",
       "  <tbody>\n",
       "    <tr>\n",
       "      <th>0</th>\n",
       "      <td>2003</td>\n",
       "      <td>854</td>\n",
       "      <td>1710</td>\n",
       "      <td>2</td>\n",
       "      <td>1</td>\n",
       "      <td>3</td>\n",
       "      <td>8</td>\n",
       "      <td>2008</td>\n",
       "      <td>208500</td>\n",
       "    </tr>\n",
       "    <tr>\n",
       "      <th>1</th>\n",
       "      <td>1976</td>\n",
       "      <td>0</td>\n",
       "      <td>1262</td>\n",
       "      <td>2</td>\n",
       "      <td>0</td>\n",
       "      <td>3</td>\n",
       "      <td>6</td>\n",
       "      <td>2007</td>\n",
       "      <td>181500</td>\n",
       "    </tr>\n",
       "    <tr>\n",
       "      <th>2</th>\n",
       "      <td>2001</td>\n",
       "      <td>866</td>\n",
       "      <td>1786</td>\n",
       "      <td>2</td>\n",
       "      <td>1</td>\n",
       "      <td>3</td>\n",
       "      <td>6</td>\n",
       "      <td>2008</td>\n",
       "      <td>223500</td>\n",
       "    </tr>\n",
       "    <tr>\n",
       "      <th>3</th>\n",
       "      <td>1915</td>\n",
       "      <td>756</td>\n",
       "      <td>1717</td>\n",
       "      <td>1</td>\n",
       "      <td>0</td>\n",
       "      <td>3</td>\n",
       "      <td>7</td>\n",
       "      <td>2006</td>\n",
       "      <td>140000</td>\n",
       "    </tr>\n",
       "    <tr>\n",
       "      <th>4</th>\n",
       "      <td>2000</td>\n",
       "      <td>1053</td>\n",
       "      <td>2198</td>\n",
       "      <td>2</td>\n",
       "      <td>1</td>\n",
       "      <td>4</td>\n",
       "      <td>9</td>\n",
       "      <td>2008</td>\n",
       "      <td>250000</td>\n",
       "    </tr>\n",
       "  </tbody>\n",
       "</table>\n",
       "</div>"
      ],
      "text/plain": [
       "   YearBuilt  2ndFlrSF  GrLivArea  FullBath  HalfBath  BedroomAbvGr  \\\n",
       "0       2003       854       1710         2         1             3   \n",
       "1       1976         0       1262         2         0             3   \n",
       "2       2001       866       1786         2         1             3   \n",
       "3       1915       756       1717         1         0             3   \n",
       "4       2000      1053       2198         2         1             4   \n",
       "\n",
       "   TotRmsAbvGrd  YrSold  SalePrice  \n",
       "0             8    2008     208500  \n",
       "1             6    2007     181500  \n",
       "2             6    2008     223500  \n",
       "3             7    2006     140000  \n",
       "4             9    2008     250000  "
      ]
     },
     "execution_count": 3,
     "metadata": {},
     "output_type": "execute_result"
    }
   ],
   "source": [
    "df=pd.read_csv('HousingPrices.csv')\n",
    "df.head()"
   ]
  },
  {
   "cell_type": "markdown",
   "id": "fb95099e",
   "metadata": {},
   "source": [
    "defining X input and Y output"
   ]
  },
  {
   "cell_type": "code",
   "execution_count": 4,
   "id": "98e4b23a",
   "metadata": {},
   "outputs": [],
   "source": [
    "X = df.drop(columns=['SalePrice'])\n",
    "Y = df[['SalePrice']]"
   ]
  },
  {
   "cell_type": "markdown",
   "id": "35472ba5",
   "metadata": {},
   "source": [
    "Model"
   ]
  },
  {
   "cell_type": "code",
   "execution_count": 5,
   "id": "b3655fb1",
   "metadata": {},
   "outputs": [
    {
     "name": "stdout",
     "output_type": "stream",
     "text": [
      "WARNING:tensorflow:From C:\\Users\\lotli\\anaconda3\\Lib\\site-packages\\keras\\src\\backend.py:873: The name tf.get_default_graph is deprecated. Please use tf.compat.v1.get_default_graph instead.\n",
      "\n",
      "WARNING:tensorflow:From C:\\Users\\lotli\\anaconda3\\Lib\\site-packages\\keras\\src\\optimizers\\__init__.py:309: The name tf.train.Optimizer is deprecated. Please use tf.compat.v1.train.Optimizer instead.\n",
      "\n"
     ]
    }
   ],
   "source": [
    "model = keras.models.Sequential()\n",
    "\n",
    "model.add(keras.layers.Dense(8, activation='relu', input_shape=(8,)))\n",
    "model.add(keras.layers.Dense(8, activation='relu'))\n",
    "model.add(keras.layers.Dense(1))\n",
    "\n",
    "model.compile(optimizer='adam', loss='mean_squared_error')"
   ]
  },
  {
   "cell_type": "markdown",
   "id": "1ff9288c",
   "metadata": {},
   "source": [
    "fitting the model"
   ]
  },
  {
   "cell_type": "code",
   "execution_count": 11,
   "id": "178e9ed6",
   "metadata": {},
   "outputs": [
    {
     "name": "stdout",
     "output_type": "stream",
     "text": [
      "Epoch 1/30\n",
      "41/46 [=========================>....] - ETA: 0s - loss: 4650688512.0000WARNING:tensorflow:Early stopping conditioned on metric `val_loss` which is not available. Available metrics are: loss\n",
      "46/46 [==============================] - 0s 1ms/step - loss: 4587561472.0000\n",
      "Epoch 2/30\n",
      "42/46 [==========================>...] - ETA: 0s - loss: 4669363200.0000WARNING:tensorflow:Early stopping conditioned on metric `val_loss` which is not available. Available metrics are: loss\n",
      "46/46 [==============================] - 0s 1ms/step - loss: 4555832832.0000\n",
      "Epoch 3/30\n",
      "45/46 [============================>.] - ETA: 0s - loss: 4537389568.0000WARNING:tensorflow:Early stopping conditioned on metric `val_loss` which is not available. Available metrics are: loss\n",
      "46/46 [==============================] - 0s 1ms/step - loss: 4525047296.0000\n",
      "Epoch 4/30\n",
      "44/46 [===========================>..] - ETA: 0s - loss: 4216890368.0000WARNING:tensorflow:Early stopping conditioned on metric `val_loss` which is not available. Available metrics are: loss\n",
      "46/46 [==============================] - 0s 1ms/step - loss: 4498788352.0000\n",
      "Epoch 5/30\n",
      "41/46 [=========================>....] - ETA: 0s - loss: 4488712704.0000WARNING:tensorflow:Early stopping conditioned on metric `val_loss` which is not available. Available metrics are: loss\n",
      "46/46 [==============================] - 0s 1ms/step - loss: 4469357056.0000\n",
      "Epoch 6/30\n",
      "42/46 [==========================>...] - ETA: 0s - loss: 4536139264.0000WARNING:tensorflow:Early stopping conditioned on metric `val_loss` which is not available. Available metrics are: loss\n",
      "46/46 [==============================] - 0s 1ms/step - loss: 4440144896.0000\n",
      "Epoch 7/30\n",
      "42/46 [==========================>...] - ETA: 0s - loss: 4383758336.0000WARNING:tensorflow:Early stopping conditioned on metric `val_loss` which is not available. Available metrics are: loss\n",
      "46/46 [==============================] - 0s 1ms/step - loss: 4409616896.0000\n",
      "Epoch 8/30\n",
      "45/46 [============================>.] - ETA: 0s - loss: 4299891200.0000WARNING:tensorflow:Early stopping conditioned on metric `val_loss` which is not available. Available metrics are: loss\n",
      "46/46 [==============================] - 0s 1ms/step - loss: 4379579392.0000\n",
      "Epoch 9/30\n",
      "40/46 [=========================>....] - ETA: 0s - loss: 4291560192.0000WARNING:tensorflow:Early stopping conditioned on metric `val_loss` which is not available. Available metrics are: loss\n",
      "46/46 [==============================] - 0s 1ms/step - loss: 4348975616.0000\n",
      "Epoch 10/30\n",
      "43/46 [===========================>..] - ETA: 0s - loss: 4349723648.0000WARNING:tensorflow:Early stopping conditioned on metric `val_loss` which is not available. Available metrics are: loss\n",
      "46/46 [==============================] - 0s 1ms/step - loss: 4314510336.0000\n",
      "Epoch 11/30\n",
      "39/46 [========================>.....] - ETA: 0s - loss: 4197870592.0000WARNING:tensorflow:Early stopping conditioned on metric `val_loss` which is not available. Available metrics are: loss\n",
      "46/46 [==============================] - 0s 1ms/step - loss: 4281561344.0000\n",
      "Epoch 12/30\n",
      "41/46 [=========================>....] - ETA: 0s - loss: 4261481216.0000WARNING:tensorflow:Early stopping conditioned on metric `val_loss` which is not available. Available metrics are: loss\n",
      "46/46 [==============================] - 0s 1ms/step - loss: 4247532544.0000\n",
      "Epoch 13/30\n",
      "45/46 [============================>.] - ETA: 0s - loss: 4226520832.0000WARNING:tensorflow:Early stopping conditioned on metric `val_loss` which is not available. Available metrics are: loss\n",
      "46/46 [==============================] - 0s 1ms/step - loss: 4214678784.0000\n",
      "Epoch 14/30\n",
      "44/46 [===========================>..] - ETA: 0s - loss: 4064602368.0000WARNING:tensorflow:Early stopping conditioned on metric `val_loss` which is not available. Available metrics are: loss\n",
      "46/46 [==============================] - 0s 1ms/step - loss: 4177622016.0000\n",
      "Epoch 15/30\n",
      "36/46 [======================>.......] - ETA: 0s - loss: 3920649728.0000WARNING:tensorflow:Early stopping conditioned on metric `val_loss` which is not available. Available metrics are: loss\n",
      "46/46 [==============================] - 0s 1ms/step - loss: 4142812928.0000\n",
      "Epoch 16/30\n",
      "35/46 [=====================>........] - ETA: 0s - loss: 3940201216.0000WARNING:tensorflow:Early stopping conditioned on metric `val_loss` which is not available. Available metrics are: loss\n",
      "46/46 [==============================] - 0s 2ms/step - loss: 4107036928.0000\n",
      "Epoch 17/30\n",
      "38/46 [=======================>......] - ETA: 0s - loss: 4246613760.0000WARNING:tensorflow:Early stopping conditioned on metric `val_loss` which is not available. Available metrics are: loss\n",
      "46/46 [==============================] - 0s 1ms/step - loss: 4071341824.0000\n",
      "Epoch 18/30\n",
      "42/46 [==========================>...] - ETA: 0s - loss: 4001658624.0000WARNING:tensorflow:Early stopping conditioned on metric `val_loss` which is not available. Available metrics are: loss\n",
      "46/46 [==============================] - 0s 1ms/step - loss: 4035032576.0000\n",
      "Epoch 19/30\n",
      "35/46 [=====================>........] - ETA: 0s - loss: 3945709056.0000WARNING:tensorflow:Early stopping conditioned on metric `val_loss` which is not available. Available metrics are: loss\n",
      "46/46 [==============================] - 0s 1ms/step - loss: 3998878976.0000\n",
      "Epoch 20/30\n",
      "34/46 [=====================>........] - ETA: 0s - loss: 4102128128.0000WARNING:tensorflow:Early stopping conditioned on metric `val_loss` which is not available. Available metrics are: loss\n",
      "46/46 [==============================] - 0s 1ms/step - loss: 3963274240.0000\n",
      "Epoch 21/30\n",
      " 1/46 [..............................] - ETA: 0s - loss: 3740996096.0000WARNING:tensorflow:Early stopping conditioned on metric `val_loss` which is not available. Available metrics are: loss\n",
      "46/46 [==============================] - 0s 1ms/step - loss: 3927504128.0000\n",
      "Epoch 22/30\n",
      " 1/46 [..............................] - ETA: 0s - loss: 3786160640.0000WARNING:tensorflow:Early stopping conditioned on metric `val_loss` which is not available. Available metrics are: loss\n",
      "46/46 [==============================] - 0s 1ms/step - loss: 3889785344.0000\n",
      "Epoch 23/30\n",
      " 1/46 [..............................] - ETA: 0s - loss: 1219390720.0000WARNING:tensorflow:Early stopping conditioned on metric `val_loss` which is not available. Available metrics are: loss\n",
      "46/46 [==============================] - 0s 1ms/step - loss: 3856069632.0000\n",
      "Epoch 24/30\n",
      " 1/46 [..............................] - ETA: 0s - loss: 1629858432.0000WARNING:tensorflow:Early stopping conditioned on metric `val_loss` which is not available. Available metrics are: loss\n",
      "46/46 [==============================] - 0s 1ms/step - loss: 3817580544.0000\n",
      "Epoch 25/30\n",
      " 1/46 [..............................] - ETA: 0s - loss: 1828031616.0000WARNING:tensorflow:Early stopping conditioned on metric `val_loss` which is not available. Available metrics are: loss\n",
      "46/46 [==============================] - 0s 923us/step - loss: 3782833408.0000\n",
      "Epoch 26/30\n",
      " 1/46 [..............................] - ETA: 0s - loss: 2381229056.0000WARNING:tensorflow:Early stopping conditioned on metric `val_loss` which is not available. Available metrics are: loss\n",
      "46/46 [==============================] - 0s 900us/step - loss: 3747563520.0000\n",
      "Epoch 27/30\n",
      " 1/46 [..............................] - ETA: 0s - loss: 6697137152.0000WARNING:tensorflow:Early stopping conditioned on metric `val_loss` which is not available. Available metrics are: loss\n",
      "46/46 [==============================] - 0s 889us/step - loss: 3714055424.0000\n",
      "Epoch 28/30\n",
      " 1/46 [..............................] - ETA: 0s - loss: 3421640192.0000WARNING:tensorflow:Early stopping conditioned on metric `val_loss` which is not available. Available metrics are: loss\n",
      "46/46 [==============================] - 0s 819us/step - loss: 3678655232.0000\n",
      "Epoch 29/30\n",
      " 1/46 [..............................] - ETA: 0s - loss: 7001901056.0000WARNING:tensorflow:Early stopping conditioned on metric `val_loss` which is not available. Available metrics are: loss\n",
      "46/46 [==============================] - 0s 775us/step - loss: 3641849088.0000\n",
      "Epoch 30/30\n",
      " 1/46 [..............................] - ETA: 0s - loss: 3198918656.0000WARNING:tensorflow:Early stopping conditioned on metric `val_loss` which is not available. Available metrics are: loss\n",
      "46/46 [==============================] - 0s 787us/step - loss: 3610616320.0000\n"
     ]
    },
    {
     "data": {
      "text/plain": [
       "<keras.src.callbacks.History at 0x21c417913d0>"
      ]
     },
     "execution_count": 11,
     "metadata": {},
     "output_type": "execute_result"
    }
   ],
   "source": [
    "model.fit(X, Y, epochs=30, callbacks=[keras.callbacks.EarlyStopping(patience=3)])"
   ]
  },
  {
   "cell_type": "markdown",
   "id": "d3dd26df",
   "metadata": {},
   "source": [
    "making a prediction on model, attributes are:\n",
    "\n",
    "[YearBuilt, 2ndFlrSF, GrLivArea, FullBath, HalfBath, BedroomAbvGr, TotRmsAbvGrd, YrSold]"
   ]
  },
  {
   "cell_type": "markdown",
   "id": "428a12f5",
   "metadata": {},
   "source": [
    "True value of this house is 208500 dollars"
   ]
  },
  {
   "cell_type": "code",
   "execution_count": 14,
   "id": "774d2c62",
   "metadata": {},
   "outputs": [
    {
     "name": "stdout",
     "output_type": "stream",
     "text": [
      "1/1 [==============================] - 0s 19ms/step\n",
      "[[200907.72]]\n"
     ]
    }
   ],
   "source": [
    "test_data = np.array([2003,854,1710,2,1,3,8,2008])\n",
    "print(model.predict(test_data.reshape(1,8), batch_size=1))"
   ]
  },
  {
   "cell_type": "code",
   "execution_count": 19,
   "id": "64c3afda",
   "metadata": {},
   "outputs": [
    {
     "name": "stdout",
     "output_type": "stream",
     "text": [
      "1/1 [==============================] - 0s 22ms/step\n",
      "[[0.03641382]]\n"
     ]
    }
   ],
   "source": [
    "error=(208500-model.predict(test_data.reshape(1,8), batch_size=1))/208500\n",
    "print(error)"
   ]
  }
 ],
 "metadata": {
  "kernelspec": {
   "display_name": "Python 3 (ipykernel)",
   "language": "python",
   "name": "python3"
  },
  "language_info": {
   "codemirror_mode": {
    "name": "ipython",
    "version": 3
   },
   "file_extension": ".py",
   "mimetype": "text/x-python",
   "name": "python",
   "nbconvert_exporter": "python",
   "pygments_lexer": "ipython3",
   "version": "3.11.5"
  }
 },
 "nbformat": 4,
 "nbformat_minor": 5
}
